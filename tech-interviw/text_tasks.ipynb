{
 "cells": [
  {
   "cell_type": "code",
   "execution_count": 10,
   "id": "f76d48fe",
   "metadata": {},
   "outputs": [
    {
     "name": "stdout",
     "output_type": "stream",
     "text": [
      "20200\n"
     ]
    }
   ],
   "source": [
    "\"\"\"\n",
    "Числовая последовательность ﻿а1, а2, … а200 ﻿ задаётся так: для каждого натурального ﻿n=1,2,…200﻿\n",
    "an =n﻿ с вероятностью ﻿1/2\n",
    "an =n+1﻿ с вероятностью ﻿1/2\n",
    "Найдите матожидание суммы всех членов этой последовательности. \n",
    "В качестве ответа выведите натуральное число или несократимую дробь, например: 1/2.\"\n",
    "\"\"\"\n",
    "n = 200  # задаем значение n\n",
    "sum = 0  # задаем начальное значение для суммы\n",
    "\n",
    "# вычисляем математическое ожидание каждого члена и суммируем\n",
    "for i in range(1, n+1):\n",
    "    sum += i + 1/2\n",
    "\n",
    "# выводим результат\n",
    "print(int(sum))"
   ]
  },
  {
   "cell_type": "code",
   "execution_count": 22,
   "id": "dc2333b2",
   "metadata": {},
   "outputs": [
    {
     "name": "stdout",
     "output_type": "stream",
     "text": [
      "55\n"
     ]
    }
   ],
   "source": [
    "\"\"\"\n",
    "(2*a*b)+(b*с)+c = 273;\n",
    "(a*b) + (b*c) - (a*c) - b = (-70);\n",
    "значение выражения a + b + c\n",
    "\"\"\"\n",
    "\n",
    "# перебор значений a, b, c от 1 до 273\n",
    "for a in range(1, 274):\n",
    "    for b in range(1, 274):\n",
    "        for c in range(1, 274):\n",
    "            if (2*a*b) + (b*c) + c == 273 and (a*b) + (b*c) - (a*c) - b == -70:\n",
    "                # если найдены подходящие значения a, b, c, выводим их сумму\n",
    "                print(a + b + c)\n"
   ]
  },
  {
   "cell_type": "code",
   "execution_count": 29,
   "id": "0267f6e6",
   "metadata": {},
   "outputs": [
    {
     "name": "stdout",
     "output_type": "stream",
     "text": [
      "0\n"
     ]
    }
   ],
   "source": [
    "\"\"\"\n",
    "На острове живут рыцари, которые всегда говорят правду, и лжецы, \n",
    "которые всегда лгут. Однажды 160 жителей острова встали в клетки \n",
    "прямоугольника 4×40. Каждый из них заявил: «Среди моих соседей \n",
    "поровну рыцарей и лжецов». Какое наибольшее количество рыцарей \n",
    "могло быть среди этих жителей? (Соседями называются люди, находящиеся \n",
    "в соседних по стороне клетках; у каждого человека не более 4 соседей.)\n",
    "\"\"\"\n",
    "def count_knights():\n",
    "    grid = [[' ' for j in range(40)] for i in range(4)]\n",
    "    for i in range(4):\n",
    "        for j in range(40):\n",
    "            if (i+j)%2 == 0:\n",
    "                grid[i][j] = 'knight'\n",
    "            else:\n",
    "                grid[i][j] = 'liar'\n",
    "    num_knights = 0\n",
    "    for i in range(4):\n",
    "        for j in range(40):\n",
    "            neighbors = []\n",
    "            if i > 0:\n",
    "                neighbors.append(grid[i-1][j])\n",
    "            if i < 3:\n",
    "                neighbors.append(grid[i+1][j])\n",
    "            if j > 0:\n",
    "                neighbors.append(grid[i][j-1])\n",
    "            if j < 39:\n",
    "                neighbors.append(grid[i][j+1])\n",
    "            num_neighbors = len(neighbors)\n",
    "            num_knights_in_neighbors = neighbors.count('knight')\n",
    "            if num_knights_in_neighbors == num_neighbors / 2:\n",
    "                num_knights += 1\n",
    "    return num_knights * 2\n",
    "\n",
    "print(count_knights())\n"
   ]
  },
  {
   "cell_type": "code",
   "execution_count": 40,
   "id": "65d254fe",
   "metadata": {},
   "outputs": [
    {
     "name": "stdout",
     "output_type": "stream",
     "text": [
      "11/40\n"
     ]
    }
   ],
   "source": [
    "\"\"\"\n",
    "на числовой прямой отмечен отрезок [0; 10] длиной 10 км. На этот отрезок сбрасывают двух роботов в случайные точки. \n",
    "Каждый робот после приземления выбирает одно из двух равновероятных направлений и начинает двигаться в этом направлении \n",
    "с постоянной скоростью: первый робот со скоростью 4 км/ч, а второй 3 км/ч. \n",
    "Найдите вероятность того, что роботы встретятся не более чем через час.\n",
    "(Роботы выбирают направление случайно и независимо друг от друга. Встреча может произойти как на отрезке [0; 10], \n",
    "так и за его пределами.)\n",
    "В качестве ответа введите натуральное число или правильную несократимую дробь, например: 1/2\n",
    "\"\"\"\n",
    "from fractions import Fraction\n",
    "\n",
    "def probability_of_meeting():\n",
    "    # вероятность встречи в области |x-y| < 1\n",
    "    prob1 = Fraction(19, 100) * Fraction(1, 2)\n",
    "    # вероятность встречи в области 1 < |x-y| < 7\n",
    "    prob2 = Fraction(91-19, 100) * Fraction(1, 4)\n",
    "    # итоговая вероятность встречи\n",
    "    total_prob = prob1 + prob2\n",
    "    return total_prob\n",
    "\n",
    "print(probability_of_meeting())\n"
   ]
  },
  {
   "cell_type": "code",
   "execution_count": 62,
   "id": "85f9254c",
   "metadata": {},
   "outputs": [
    {
     "name": "stdout",
     "output_type": "stream",
     "text": [
      "2575/1717\n"
     ]
    }
   ],
   "source": [
    "\"\"\"\n",
    "7\n",
    "\"\"\"\n",
    "from math import comb\n",
    "import fractions\n",
    "\n",
    "total = 0\n",
    "\n",
    "for m in range(3, 103):\n",
    "    k = comb(m, 3)\n",
    "    total += 100 / k\n",
    "\n",
    "expected_value = total / len(range(3, 103))\n",
    "\n",
    "print(fractions.Fraction(expected_value).limit_denominator())"
   ]
  }
 ],
 "metadata": {
  "kernelspec": {
   "display_name": "Python 3 (ipykernel)",
   "language": "python",
   "name": "python3"
  },
  "language_info": {
   "codemirror_mode": {
    "name": "ipython",
    "version": 3
   },
   "file_extension": ".py",
   "mimetype": "text/x-python",
   "name": "python",
   "nbconvert_exporter": "python",
   "pygments_lexer": "ipython3",
   "version": "3.9.13"
  }
 },
 "nbformat": 4,
 "nbformat_minor": 5
}
